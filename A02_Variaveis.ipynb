{
 "cells": [
  {
   "cell_type": "code",
   "execution_count": 7,
   "id": "0596979c",
   "metadata": {},
   "outputs": [
    {
     "name": "stdout",
     "output_type": "stream",
     "text": [
      "5\n"
     ]
    }
   ],
   "source": [
    "x=5\n",
    "print(x)"
   ]
  },
  {
   "cell_type": "markdown",
   "id": "d453e660",
   "metadata": {},
   "source": [
    "### Tipo Integer"
   ]
  },
  {
   "cell_type": "code",
   "execution_count": 3,
   "id": "ef02e484",
   "metadata": {},
   "outputs": [
    {
     "name": "stdout",
     "output_type": "stream",
     "text": [
      "<class 'int'>\n"
     ]
    }
   ],
   "source": [
    "print(type(x))"
   ]
  },
  {
   "cell_type": "markdown",
   "id": "bd59f4ec",
   "metadata": {},
   "source": [
    "### Tipo Float"
   ]
  },
  {
   "cell_type": "code",
   "execution_count": 4,
   "id": "07a40b85",
   "metadata": {},
   "outputs": [
    {
     "name": "stdout",
     "output_type": "stream",
     "text": [
      "19.99 <class 'float'>\n"
     ]
    }
   ],
   "source": [
    "preco=19.99\n",
    "print(preco, type(preco))"
   ]
  },
  {
   "cell_type": "markdown",
   "id": "0c855fd6",
   "metadata": {},
   "source": [
    "### Tipo String"
   ]
  },
  {
   "cell_type": "code",
   "execution_count": 5,
   "id": "d691a6a1",
   "metadata": {},
   "outputs": [
    {
     "name": "stdout",
     "output_type": "stream",
     "text": [
      "<class 'str'>\n"
     ]
    }
   ],
   "source": [
    "cidade='Fortaleza'\n",
    "print(type(cidade))"
   ]
  },
  {
   "cell_type": "markdown",
   "id": "75b9f7b3",
   "metadata": {},
   "source": [
    "### Tipo Bool"
   ]
  },
  {
   "cell_type": "code",
   "execution_count": 6,
   "id": "35c60d86",
   "metadata": {},
   "outputs": [
    {
     "name": "stdout",
     "output_type": "stream",
     "text": [
      "<class 'bool'>\n"
     ]
    }
   ],
   "source": [
    "disponivel=False\n",
    "print(type(disponivel))"
   ]
  },
  {
   "cell_type": "code",
   "execution_count": null,
   "id": "dd370787",
   "metadata": {},
   "outputs": [],
   "source": []
  }
 ],
 "metadata": {
  "kernelspec": {
   "display_name": "Python 3 (ipykernel)",
   "language": "python",
   "name": "python3"
  },
  "language_info": {
   "codemirror_mode": {
    "name": "ipython",
    "version": 3
   },
   "file_extension": ".py",
   "mimetype": "text/x-python",
   "name": "python",
   "nbconvert_exporter": "python",
   "pygments_lexer": "ipython3",
   "version": "3.10.5"
  }
 },
 "nbformat": 4,
 "nbformat_minor": 5
}
