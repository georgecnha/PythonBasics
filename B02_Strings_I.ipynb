{
 "cells": [
  {
   "cell_type": "markdown",
   "id": "2dd5a6ae",
   "metadata": {},
   "source": [
    "# Strings I"
   ]
  },
  {
   "cell_type": "markdown",
   "id": "0385aea3",
   "metadata": {},
   "source": [
    "Caractere de escape (`\\`) serve para mostrar que as aspas de um texto não estão delimitando a string. Porém ele também tem outros usos.\n"
   ]
  },
  {
   "cell_type": "code",
   "execution_count": 3,
   "id": "6fd87550",
   "metadata": {},
   "outputs": [
    {
     "name": "stdout",
     "output_type": "stream",
     "text": [
      "O Bem-te-vi falou \"Bem te vi\"!\n"
     ]
    }
   ],
   "source": [
    "print(\"O Bem-te-vi falou \\\"Bem te vi\\\"!\")"
   ]
  },
  {
   "cell_type": "markdown",
   "id": "a84156a1",
   "metadata": {},
   "source": [
    "Strings também permitem _slicing_."
   ]
  },
  {
   "cell_type": "code",
   "execution_count": 1,
   "id": "97c6e077",
   "metadata": {},
   "outputs": [
    {
     "data": {
      "text/plain": [
       "'Goo'"
      ]
     },
     "execution_count": 1,
     "metadata": {},
     "output_type": "execute_result"
    }
   ],
   "source": [
    "empresa = 'Google'\n",
    "empresa[:3]"
   ]
  },
  {
   "cell_type": "markdown",
   "id": "e1473909",
   "metadata": {},
   "source": [
    "## Métodos\n",
    "Métodos de string retornam valores, mas não efetuam as alterações em si."
   ]
  },
  {
   "cell_type": "code",
   "execution_count": 3,
   "id": "f014d991",
   "metadata": {},
   "outputs": [],
   "source": [
    "cidades = 'São Paulo, Belo Horizonte, Rio de Janeiro, Brasília'"
   ]
  },
  {
   "cell_type": "markdown",
   "id": "6f3b0d65",
   "metadata": {},
   "source": [
    "### Split\n",
    "\n",
    "Esse método retorna uma lista de pedaços da string a partir de um delimitador."
   ]
  },
  {
   "cell_type": "code",
   "execution_count": 4,
   "id": "1a963194",
   "metadata": {},
   "outputs": [
    {
     "name": "stdout",
     "output_type": "stream",
     "text": [
      "['São Paulo', 'Belo Horizonte', 'Rio de Janeiro', 'Brasília']\n"
     ]
    }
   ],
   "source": [
    "cidades = cidades.split(', ')\n",
    "print(cidades)"
   ]
  },
  {
   "cell_type": "markdown",
   "id": "74240ea2",
   "metadata": {},
   "source": [
    "O caractere delimitador padrão desse método é o espaço."
   ]
  },
  {
   "cell_type": "code",
   "execution_count": 5,
   "id": "7127feab",
   "metadata": {},
   "outputs": [
    {
     "name": "stdout",
     "output_type": "stream",
     "text": [
      "['São', 'Paulo,', 'Belo', 'Horizonte,', 'Rio', 'de', 'Janeiro,', 'Brasília']\n"
     ]
    }
   ],
   "source": [
    "cidades = 'São Paulo, Belo Horizonte, Rio de Janeiro, Brasília'\n",
    "cidades = cidades.split()\n",
    "print(cidades)"
   ]
  },
  {
   "cell_type": "markdown",
   "id": "06595d93",
   "metadata": {},
   "source": [
    "### Strip\n",
    "Remove o excesso de espaços. Ajuda na limpeza de dados sujos."
   ]
  },
  {
   "cell_type": "code",
   "execution_count": 6,
   "id": "5d114558",
   "metadata": {},
   "outputs": [
    {
     "name": "stdout",
     "output_type": "stream",
     "text": [
      "MENU PRINCIPAL\n"
     ]
    }
   ],
   "source": [
    "cabecalho = '         MENU PRINCIPAL           '\n",
    "print(cabecalho.strip())"
   ]
  },
  {
   "cell_type": "markdown",
   "id": "5b54c03d",
   "metadata": {},
   "source": [
    "Métodos de Formatação"
   ]
  },
  {
   "cell_type": "code",
   "execution_count": 7,
   "id": "c3d35c4d",
   "metadata": {},
   "outputs": [
    {
     "name": "stdout",
     "output_type": "stream",
     "text": [
      "Rio De Janeiro\n",
      "Rio de janeiro\n",
      "rio de janeiro\n",
      "RIO DE JANEIRO\n"
     ]
    }
   ],
   "source": [
    "cid = 'rIO dE JaNeIro'\n",
    "print(cid.title()) #capitaliza só as iniciais\n",
    "print(cid.capitalize()) #capitaliza só a primeira letra\n",
    "print(cid.lower()) #torna todos minúsculos\n",
    "print(cid.upper()) #Capitaliza todos os caracteres \n"
   ]
  },
  {
   "cell_type": "code",
   "execution_count": 9,
   "id": "a589c209",
   "metadata": {},
   "outputs": [
    {
     "name": "stdout",
     "output_type": "stream",
     "text": [
      "Qual cidade brasileira é conhecida como cidade maravilhosa? Rio de Janeiro\n",
      "Certa resposta!\n"
     ]
    }
   ],
   "source": [
    "nome_cidade = input('Qual cidade brasileira é conhecida como cidade maravilhosa? ')\n",
    "nome_cidade = nome_cidade.strip()\n",
    "\n",
    "while nome_cidade.lower() != 'rio de janeiro':\n",
    "    print('Tente novamente.')\n",
    "    nome_cidade = input('Qual cidade brasileira é conhecida como cidade maravilhosa? ')\n",
    "    nome_cidade.strip()\n",
    "print('Certa resposta!')"
   ]
  },
  {
   "cell_type": "code",
   "execution_count": null,
   "id": "8d1f67e3",
   "metadata": {},
   "outputs": [],
   "source": []
  }
 ],
 "metadata": {
  "kernelspec": {
   "display_name": "Python 3 (ipykernel)",
   "language": "python",
   "name": "python3"
  },
  "language_info": {
   "codemirror_mode": {
    "name": "ipython",
    "version": 3
   },
   "file_extension": ".py",
   "mimetype": "text/x-python",
   "name": "python",
   "nbconvert_exporter": "python",
   "pygments_lexer": "ipython3",
   "version": "3.10.5"
  }
 },
 "nbformat": 4,
 "nbformat_minor": 5
}
