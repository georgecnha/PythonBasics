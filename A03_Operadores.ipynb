{
 "cells": [
  {
   "cell_type": "code",
   "execution_count": 1,
   "id": "f53139fb",
   "metadata": {},
   "outputs": [],
   "source": [
    "x=50\n",
    "y=2"
   ]
  },
  {
   "cell_type": "code",
   "execution_count": 2,
   "id": "68445734",
   "metadata": {},
   "outputs": [
    {
     "name": "stdout",
     "output_type": "stream",
     "text": [
      "2500\n",
      "25\n",
      "0\n"
     ]
    }
   ],
   "source": [
    "print(x**2) #Exponenciação\n",
    "print(x//2) #Divisão inteira\n",
    "print(x%2) #Resto"
   ]
  },
  {
   "cell_type": "code",
   "execution_count": 6,
   "id": "db58b769",
   "metadata": {},
   "outputs": [
    {
     "name": "stdout",
     "output_type": "stream",
     "text": [
      "False\n",
      "True\n",
      "False\n"
     ]
    }
   ],
   "source": [
    "#Operadores Lógicos\n",
    "\n",
    "tem_cafe=True\n",
    "tem_pao=False\n",
    "\n",
    "print(not tem_cafe)\n",
    "print(tem_cafe or tem_pao)\n",
    "print(tem_cafe and tem_pao)"
   ]
  },
  {
   "cell_type": "code",
   "execution_count": 7,
   "id": "24e63e08",
   "metadata": {},
   "outputs": [
    {
     "name": "stdout",
     "output_type": "stream",
     "text": [
      "False\n",
      "True\n",
      "False\n",
      "False\n",
      "True\n"
     ]
    }
   ],
   "source": [
    "#Operadores Relacionais\n",
    "\n",
    "print(3>5) #Maior\n",
    "print(3<5) #Menor\n",
    "print(3==5) #Igual\n",
    "print(3>=5)\n",
    "print(3<=5)\n"
   ]
  },
  {
   "cell_type": "code",
   "execution_count": null,
   "id": "0f30f492",
   "metadata": {},
   "outputs": [],
   "source": []
  }
 ],
 "metadata": {
  "kernelspec": {
   "display_name": "Python 3 (ipykernel)",
   "language": "python",
   "name": "python3"
  },
  "language_info": {
   "codemirror_mode": {
    "name": "ipython",
    "version": 3
   },
   "file_extension": ".py",
   "mimetype": "text/x-python",
   "name": "python",
   "nbconvert_exporter": "python",
   "pygments_lexer": "ipython3",
   "version": "3.10.5"
  }
 },
 "nbformat": 4,
 "nbformat_minor": 5
}
