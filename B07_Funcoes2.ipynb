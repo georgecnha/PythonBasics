{
 "cells": [
  {
   "cell_type": "markdown",
   "id": "aa97d614",
   "metadata": {},
   "source": [
    "# Funções II: Args e Cords"
   ]
  },
  {
   "cell_type": "code",
   "execution_count": 1,
   "id": "270b9e04",
   "metadata": {},
   "outputs": [
    {
     "name": "stdout",
     "output_type": "stream",
     "text": [
      "1 2 3 <class 'tuple'>\n"
     ]
    }
   ],
   "source": [
    "def média(*args):\n",
    "    print(*args, type(args))\n",
    "    \n",
    "    \n",
    "média (1,2,3)"
   ]
  },
  {
   "cell_type": "code",
   "execution_count": 2,
   "id": "a30b1545",
   "metadata": {},
   "outputs": [],
   "source": [
    "def média(*args):\n",
    "    soma=sum(args)\n",
    "    media= soma/len(args)\n",
    "    return(media)"
   ]
  },
  {
   "cell_type": "code",
   "execution_count": 4,
   "id": "31647c39",
   "metadata": {},
   "outputs": [
    {
     "data": {
      "text/plain": [
       "9.0"
      ]
     },
     "execution_count": 4,
     "metadata": {},
     "output_type": "execute_result"
    }
   ],
   "source": [
    "média(10,9,8)"
   ]
  },
  {
   "cell_type": "code",
   "execution_count": null,
   "id": "b74db0dc",
   "metadata": {},
   "outputs": [],
   "source": []
  }
 ],
 "metadata": {
  "kernelspec": {
   "display_name": "Python 3 (ipykernel)",
   "language": "python",
   "name": "python3"
  },
  "language_info": {
   "codemirror_mode": {
    "name": "ipython",
    "version": 3
   },
   "file_extension": ".py",
   "mimetype": "text/x-python",
   "name": "python",
   "nbconvert_exporter": "python",
   "pygments_lexer": "ipython3",
   "version": "3.10.5"
  }
 },
 "nbformat": 4,
 "nbformat_minor": 5
}
