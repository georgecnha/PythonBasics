{
 "cells": [
  {
   "cell_type": "markdown",
   "id": "1912368a",
   "metadata": {},
   "source": [
    "# Instalando o Jupyter Notebook\n",
    "\n",
    "\n",
    "A partir do terminal (ou _prompt_ de comando) execute o comando\n",
    "\n",
    "```\n",
    "pip install notebook\n",
    "```\n",
    "e então aguarde o fim da instalação."
   ]
  },
  {
   "cell_type": "markdown",
   "id": "d8d77934",
   "metadata": {},
   "source": [
    "Para executar o Jupyter, digite no terminal:\n",
    "\n",
    "```\n",
    "jupyter notebook\n",
    "```\n",
    "Será aberta uma janela no navegador."
   ]
  },
  {
   "cell_type": "code",
   "execution_count": null,
   "id": "33b9c80c",
   "metadata": {},
   "outputs": [],
   "source": []
  }
 ],
 "metadata": {
  "kernelspec": {
   "display_name": "Python 3 (ipykernel)",
   "language": "python",
   "name": "python3"
  },
  "language_info": {
   "codemirror_mode": {
    "name": "ipython",
    "version": 3
   },
   "file_extension": ".py",
   "mimetype": "text/x-python",
   "name": "python",
   "nbconvert_exporter": "python",
   "pygments_lexer": "ipython3",
   "version": "3.10.5"
  }
 },
 "nbformat": 4,
 "nbformat_minor": 5
}
