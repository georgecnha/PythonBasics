{
 "cells": [
  {
   "cell_type": "markdown",
   "id": "d73baf26",
   "metadata": {},
   "source": [
    "# Strings II\n"
   ]
  },
  {
   "cell_type": "markdown",
   "id": "9a53e2f8",
   "metadata": {},
   "source": [
    "## Operadores aplicados em Strings"
   ]
  },
  {
   "cell_type": "code",
   "execution_count": 3,
   "id": "40e29e9d",
   "metadata": {},
   "outputs": [
    {
     "name": "stdout",
     "output_type": "stream",
     "text": [
      "Olá, George!\n"
     ]
    }
   ],
   "source": [
    "cumprimento = 'Olá, '\n",
    "nome = 'George'\n",
    "print(cumprimento+nome+'!')"
   ]
  },
  {
   "cell_type": "code",
   "execution_count": 4,
   "id": "f325aa01",
   "metadata": {},
   "outputs": [
    {
     "data": {
      "text/plain": [
       "'GeorgeGeorgeGeorgeGeorgeGeorge'"
      ]
     },
     "execution_count": 4,
     "metadata": {},
     "output_type": "execute_result"
    }
   ],
   "source": [
    "nome*5"
   ]
  },
  {
   "cell_type": "markdown",
   "id": "097b9335",
   "metadata": {},
   "source": [
    "## Método Format"
   ]
  },
  {
   "cell_type": "code",
   "execution_count": 6,
   "id": "7b4995a7",
   "metadata": {},
   "outputs": [
    {
     "name": "stdout",
     "output_type": "stream",
     "text": [
      "Felipe tem 35 anos e tem 2 filhos.\n"
     ]
    }
   ],
   "source": [
    "nome= 'Felipe'\n",
    "idade = '35'\n",
    "n_filhos = 2\n",
    "print(\"{} tem {} anos e tem {} filhos.\".format(nome, idade, n_filhos))"
   ]
  },
  {
   "cell_type": "code",
   "execution_count": 7,
   "id": "791b4272",
   "metadata": {},
   "outputs": [
    {
     "name": "stdout",
     "output_type": "stream",
     "text": [
      "O preço atual da gasolina é R$ 5.66\n"
     ]
    }
   ],
   "source": [
    "preco_gasolina= 5.656\n",
    "print('O preço atual da gasolina é R$ {:.2f}'.format(preco_gasolina))"
   ]
  },
  {
   "cell_type": "code",
   "execution_count": null,
   "id": "4b73ee22",
   "metadata": {},
   "outputs": [],
   "source": []
  }
 ],
 "metadata": {
  "kernelspec": {
   "display_name": "Python 3 (ipykernel)",
   "language": "python",
   "name": "python3"
  },
  "language_info": {
   "codemirror_mode": {
    "name": "ipython",
    "version": 3
   },
   "file_extension": ".py",
   "mimetype": "text/x-python",
   "name": "python",
   "nbconvert_exporter": "python",
   "pygments_lexer": "ipython3",
   "version": "3.10.5"
  }
 },
 "nbformat": 4,
 "nbformat_minor": 5
}
