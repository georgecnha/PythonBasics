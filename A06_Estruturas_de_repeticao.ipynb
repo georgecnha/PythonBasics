{
 "cells": [
  {
   "cell_type": "markdown",
   "id": "44f0405c",
   "metadata": {},
   "source": [
    "## While"
   ]
  },
  {
   "cell_type": "code",
   "execution_count": 3,
   "id": "8bd90561",
   "metadata": {},
   "outputs": [
    {
     "name": "stdout",
     "output_type": "stream",
     "text": [
      "1 item limpo\n",
      "2 itens limpos\n",
      "3 itens limpos\n",
      "4 itens limpos\n",
      "5 itens limpos\n",
      "6 itens limpos\n",
      "7 itens limpos\n",
      "8 itens limpos\n",
      "9 itens limpos\n",
      "10 itens limpos\n",
      "Fim da repetição do bloco while\n"
     ]
    }
   ],
   "source": [
    "contador=0\n",
    "\n",
    "while contador<10:\n",
    "    contador= contador + 1\n",
    "    if contador == 1:\n",
    "        print(contador, 'item limpo')\n",
    "    else:\n",
    "        print(contador,'itens limpos')\n",
    "        \n",
    "print('Fim da repetição do bloco while')"
   ]
  },
  {
   "cell_type": "code",
   "execution_count": 5,
   "id": "434ddd84",
   "metadata": {},
   "outputs": [],
   "source": [
    "while True:\n",
    "    break #Quebra looping"
   ]
  },
  {
   "cell_type": "code",
   "execution_count": 8,
   "id": "e87f8d31",
   "metadata": {},
   "outputs": [
    {
     "name": "stdout",
     "output_type": "stream",
     "text": [
      "2 itens limpos.\n",
      "3 itens limpos.\n",
      "4 itens limpos.\n",
      "5 itens limpos.\n",
      "6 itens limpos.\n",
      "7 itens limpos.\n",
      "8 itens limpos.\n",
      "9 itens limpos.\n",
      "10 itens limpos.\n",
      "Fim da repetição do bloco while\n"
     ]
    }
   ],
   "source": [
    "contador=0\n",
    "while contador<10:\n",
    "    contador+=1\n",
    "    if contador==1:\n",
    "        continue #vai direto para a próxima iteração\n",
    "    print(contador, \"itens limpos.\")\n",
    "print('Fim da repetição do bloco while')"
   ]
  },
  {
   "cell_type": "code",
   "execution_count": null,
   "id": "f3aa7dfe",
   "metadata": {},
   "outputs": [],
   "source": []
  },
  {
   "cell_type": "code",
   "execution_count": null,
   "id": "2425ec00",
   "metadata": {},
   "outputs": [],
   "source": []
  }
 ],
 "metadata": {
  "kernelspec": {
   "display_name": "Python 3 (ipykernel)",
   "language": "python",
   "name": "python3"
  },
  "language_info": {
   "codemirror_mode": {
    "name": "ipython",
    "version": 3
   },
   "file_extension": ".py",
   "mimetype": "text/x-python",
   "name": "python",
   "nbconvert_exporter": "python",
   "pygments_lexer": "ipython3",
   "version": "3.10.5"
  }
 },
 "nbformat": 4,
 "nbformat_minor": 5
}
