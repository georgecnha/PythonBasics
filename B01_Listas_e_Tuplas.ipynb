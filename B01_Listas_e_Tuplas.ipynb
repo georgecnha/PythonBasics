{
 "cells": [
  {
   "cell_type": "markdown",
   "id": "b44540be",
   "metadata": {},
   "source": [
    "## Listas\n",
    "\n",
    "Servem para armazenar os dados de maneita estruturada. É uma coleção ou seqência ordenada de valores. Essa sequência usa indexação de base zero."
   ]
  },
  {
   "cell_type": "code",
   "execution_count": 61,
   "id": "d139c929",
   "metadata": {},
   "outputs": [
    {
     "name": "stdout",
     "output_type": "stream",
     "text": [
      "<class 'list'>\n",
      "Tamanho da lista 4\n"
     ]
    }
   ],
   "source": [
    "nomes_paises=['Brasil', 'Argentina', 'Canadá', 'Japão']\n",
    "\n",
    "print(type(nomes_paises))\n",
    "\n",
    "print('Tamanho da lista', len(nomes_paises))"
   ]
  },
  {
   "cell_type": "code",
   "execution_count": 62,
   "id": "f4615edf",
   "metadata": {},
   "outputs": [
    {
     "data": {
      "text/plain": [
       "'Japão'"
      ]
     },
     "execution_count": 62,
     "metadata": {},
     "output_type": "execute_result"
    }
   ],
   "source": [
    "nomes_paises[3]"
   ]
  },
  {
   "cell_type": "code",
   "execution_count": 63,
   "id": "b6f2f016",
   "metadata": {},
   "outputs": [
    {
     "data": {
      "text/plain": [
       "'Japão'"
      ]
     },
     "execution_count": 63,
     "metadata": {},
     "output_type": "execute_result"
    }
   ],
   "source": [
    "nomes_paises[-1]"
   ]
  },
  {
   "cell_type": "markdown",
   "id": "4c5d2aee",
   "metadata": {},
   "source": [
    "## Slice\n",
    "\n",
    "Com o índice inicial e o final, sendo que o final não é incluso"
   ]
  },
  {
   "cell_type": "code",
   "execution_count": 64,
   "id": "739b7773",
   "metadata": {},
   "outputs": [
    {
     "data": {
      "text/plain": [
       "['Brasil', 'Argentina', 'Canadá']"
      ]
     },
     "execution_count": 64,
     "metadata": {},
     "output_type": "execute_result"
    }
   ],
   "source": [
    "nomes_paises[0:3]"
   ]
  },
  {
   "cell_type": "code",
   "execution_count": 65,
   "id": "c60916b8",
   "metadata": {},
   "outputs": [
    {
     "data": {
      "text/plain": [
       "['Brasil', 'Argentina', 'Canadá']"
      ]
     },
     "execution_count": 65,
     "metadata": {},
     "output_type": "execute_result"
    }
   ],
   "source": [
    "nomes_paises[:3]"
   ]
  },
  {
   "cell_type": "code",
   "execution_count": 66,
   "id": "bc53e52b",
   "metadata": {},
   "outputs": [
    {
     "data": {
      "text/plain": [
       "['Brasil', 'Argentina', 'Canadá', 'Japão']"
      ]
     },
     "execution_count": 66,
     "metadata": {},
     "output_type": "execute_result"
    }
   ],
   "source": [
    "nomes_paises[0:]"
   ]
  },
  {
   "cell_type": "markdown",
   "id": "55e569a1",
   "metadata": {},
   "source": [
    "Também é possível definir um _step_"
   ]
  },
  {
   "cell_type": "code",
   "execution_count": 67,
   "id": "3519b835",
   "metadata": {},
   "outputs": [
    {
     "data": {
      "text/plain": [
       "['Brasil', 'Canadá']"
      ]
     },
     "execution_count": 67,
     "metadata": {},
     "output_type": "execute_result"
    }
   ],
   "source": [
    "nomes_paises[::2]"
   ]
  },
  {
   "cell_type": "code",
   "execution_count": 68,
   "id": "2f954b0d",
   "metadata": {},
   "outputs": [
    {
     "data": {
      "text/plain": [
       "['Japão', 'Canadá', 'Argentina', 'Brasil']"
      ]
     },
     "execution_count": 68,
     "metadata": {},
     "output_type": "execute_result"
    }
   ],
   "source": [
    "nomes_paises[::-1]"
   ]
  },
  {
   "cell_type": "markdown",
   "id": "a0f3b141",
   "metadata": {},
   "source": [
    "Também é possível usar operadores booleanos."
   ]
  },
  {
   "cell_type": "code",
   "execution_count": 69,
   "id": "e3e327f1",
   "metadata": {},
   "outputs": [
    {
     "data": {
      "text/plain": [
       "True"
      ]
     },
     "execution_count": 69,
     "metadata": {},
     "output_type": "execute_result"
    }
   ],
   "source": [
    "'Brasil' in nomes_paises"
   ]
  },
  {
   "cell_type": "code",
   "execution_count": 70,
   "id": "9d0c526d",
   "metadata": {},
   "outputs": [
    {
     "data": {
      "text/plain": [
       "False"
      ]
     },
     "execution_count": 70,
     "metadata": {},
     "output_type": "execute_result"
    }
   ],
   "source": [
    "'Brasil' not in nomes_paises"
   ]
  },
  {
   "cell_type": "markdown",
   "id": "7f145734",
   "metadata": {},
   "source": [
    "## Métodos de uma lista\n",
    "\n",
    "Criamos a uma nova lista vazia."
   ]
  },
  {
   "cell_type": "code",
   "execution_count": 71,
   "id": "433f6d53",
   "metadata": {},
   "outputs": [],
   "source": [
    "lista_capitais= []"
   ]
  },
  {
   "cell_type": "markdown",
   "id": "962965c0",
   "metadata": {},
   "source": [
    "Agora incluiremos novos itens:"
   ]
  },
  {
   "cell_type": "code",
   "execution_count": 72,
   "id": "aab8df54",
   "metadata": {},
   "outputs": [],
   "source": [
    "lista_capitais.append('Brasília')\n",
    "lista_capitais.append('Buenos Aires')\n",
    "lista_capitais.append('Pequim')\n",
    "lista_capitais.append('Bogotá')"
   ]
  },
  {
   "cell_type": "code",
   "execution_count": 73,
   "id": "fba5ef03",
   "metadata": {},
   "outputs": [
    {
     "data": {
      "text/plain": [
       "['Brasília', 'Buenos Aires', 'Pequim', 'Bogotá']"
      ]
     },
     "execution_count": 73,
     "metadata": {},
     "output_type": "execute_result"
    }
   ],
   "source": [
    "lista_capitais"
   ]
  },
  {
   "cell_type": "markdown",
   "id": "25fb4dd9",
   "metadata": {},
   "source": [
    "O método `insert` insere o elemento em índice específico. "
   ]
  },
  {
   "cell_type": "code",
   "execution_count": 74,
   "id": "04ab8687",
   "metadata": {},
   "outputs": [
    {
     "data": {
      "text/plain": [
       "['Brasília', 'Buenos Aires', 'Paris', 'Pequim', 'Bogotá']"
      ]
     },
     "execution_count": 74,
     "metadata": {},
     "output_type": "execute_result"
    }
   ],
   "source": [
    "lista_capitais.insert(2, 'Paris')\n",
    "lista_capitais"
   ]
  },
  {
   "cell_type": "markdown",
   "id": "58c58513",
   "metadata": {},
   "source": [
    "Para remover um item, usamos o método `remove`"
   ]
  },
  {
   "cell_type": "code",
   "execution_count": 75,
   "id": "d95f8ecd",
   "metadata": {},
   "outputs": [
    {
     "data": {
      "text/plain": [
       "['Brasília', 'Paris', 'Pequim', 'Bogotá']"
      ]
     },
     "execution_count": 75,
     "metadata": {},
     "output_type": "execute_result"
    }
   ],
   "source": [
    "lista_capitais.remove('Buenos Aires')\n",
    "lista_capitais"
   ]
  },
  {
   "cell_type": "markdown",
   "id": "68b0b8d4",
   "metadata": {},
   "source": [
    "Para remover algo de um índice específico, usa-se o `pop`"
   ]
  },
  {
   "cell_type": "code",
   "execution_count": 76,
   "id": "d9c361b4",
   "metadata": {},
   "outputs": [
    {
     "name": "stdout",
     "output_type": "stream",
     "text": [
      "['Brasília', 'Paris', 'Bogotá']\n",
      "Pequim\n"
     ]
    }
   ],
   "source": [
    "removido=lista_capitais.pop(2)\n",
    "print(lista_capitais)\n",
    "print(removido)"
   ]
  },
  {
   "cell_type": "markdown",
   "id": "b7050ebb",
   "metadata": {},
   "source": [
    "# Tuplas\n",
    "\n",
    "Imutáveis e com armazenamento menor que as listas. Podem ser declaradas com ou sem parênteses."
   ]
  },
  {
   "cell_type": "code",
   "execution_count": 77,
   "id": "33c7c2ac",
   "metadata": {},
   "outputs": [
    {
     "data": {
      "text/plain": [
       "tuple"
      ]
     },
     "execution_count": 77,
     "metadata": {},
     "output_type": "execute_result"
    }
   ],
   "source": [
    "paises = ('Brasil', 'Argentina', 'China', 'Canadá', 'Japão')\n",
    "type(paises)"
   ]
  },
  {
   "cell_type": "code",
   "execution_count": 78,
   "id": "353682ad",
   "metadata": {},
   "outputs": [
    {
     "data": {
      "text/plain": [
       "tuple"
      ]
     },
     "execution_count": 78,
     "metadata": {},
     "output_type": "execute_result"
    }
   ],
   "source": [
    "paises = 'Brasil', 'Argentina', 'China', 'Canadá', 'Japão'\n",
    "type(paises)"
   ]
  },
  {
   "cell_type": "code",
   "execution_count": 79,
   "id": "a4376ff1",
   "metadata": {},
   "outputs": [
    {
     "data": {
      "text/plain": [
       "5"
      ]
     },
     "execution_count": 79,
     "metadata": {},
     "output_type": "execute_result"
    }
   ],
   "source": [
    "len(paises)"
   ]
  },
  {
   "cell_type": "code",
   "execution_count": 81,
   "id": "00d223cd",
   "metadata": {},
   "outputs": [
    {
     "data": {
      "text/plain": [
       "'Brasil'"
      ]
     },
     "execution_count": 81,
     "metadata": {},
     "output_type": "execute_result"
    }
   ],
   "source": [
    "paises[0]"
   ]
  },
  {
   "cell_type": "markdown",
   "id": "2eaf6d34",
   "metadata": {},
   "source": [
    "Apesar de ter métodos em comum com as listas,tuplas tem funções que as listas não tem. "
   ]
  },
  {
   "cell_type": "markdown",
   "id": "cc22f0b0",
   "metadata": {},
   "source": [
    "## Unpacking"
   ]
  },
  {
   "cell_type": "code",
   "execution_count": 82,
   "id": "674a0e40",
   "metadata": {},
   "outputs": [
    {
     "name": "stdout",
     "output_type": "stream",
     "text": [
      "Brasil China Japão\n"
     ]
    }
   ],
   "source": [
    "b, a, c, ca, j = paises\n",
    "print(b, c, j)"
   ]
  },
  {
   "cell_type": "code",
   "execution_count": 83,
   "id": "7cda27a2",
   "metadata": {},
   "outputs": [
    {
     "name": "stdout",
     "output_type": "stream",
     "text": [
      "Brasil Argentina China Canadá Japão\n"
     ]
    }
   ],
   "source": [
    "print(*paises)"
   ]
  },
  {
   "cell_type": "code",
   "execution_count": null,
   "id": "20b89fa7",
   "metadata": {},
   "outputs": [],
   "source": []
  }
 ],
 "metadata": {
  "kernelspec": {
   "display_name": "Python 3 (ipykernel)",
   "language": "python",
   "name": "python3"
  },
  "language_info": {
   "codemirror_mode": {
    "name": "ipython",
    "version": 3
   },
   "file_extension": ".py",
   "mimetype": "text/x-python",
   "name": "python",
   "nbconvert_exporter": "python",
   "pygments_lexer": "ipython3",
   "version": "3.10.5"
  }
 },
 "nbformat": 4,
 "nbformat_minor": 5
}
