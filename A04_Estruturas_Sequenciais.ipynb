{
 "cells": [
  {
   "cell_type": "markdown",
   "id": "de4b64a9",
   "metadata": {},
   "source": [
    "## Algumas funções novas"
   ]
  },
  {
   "cell_type": "markdown",
   "id": "5fb7d95c",
   "metadata": {},
   "source": [
    "### Input\n",
    "\n",
    "Permite que o usuário insira um valor. Essa função retorna esse valor, que para ser armazenado, deve ser colocado em uma variável."
   ]
  },
  {
   "cell_type": "markdown",
   "id": "8e7249ee",
   "metadata": {},
   "source": [
    "### Type\n",
    "Retorna o tipo do valor em questão."
   ]
  },
  {
   "cell_type": "code",
   "execution_count": 1,
   "id": "852c22b8",
   "metadata": {},
   "outputs": [
    {
     "name": "stdout",
     "output_type": "stream",
     "text": [
      "Informe sua idade: 5\n",
      "<class 'str'>\n"
     ]
    }
   ],
   "source": [
    "idade = input(\"Informe sua idade: \")\n",
    "print(type(idade))"
   ]
  },
  {
   "cell_type": "markdown",
   "id": "25c2b5cd",
   "metadata": {},
   "source": [
    "Um valor inserido por _input_ sempre é recebido como string. Logo, se for um número, tome o cuidado de transformar para o tipo apropriado."
   ]
  },
  {
   "cell_type": "code",
   "execution_count": 2,
   "id": "31a58b73",
   "metadata": {},
   "outputs": [
    {
     "name": "stdout",
     "output_type": "stream",
     "text": [
      "Informe sua idade: 5\n",
      "<class 'int'>\n"
     ]
    }
   ],
   "source": [
    "idade =int(input(\"Informe sua idade: \"))\n",
    "print(type(idade))"
   ]
  },
  {
   "cell_type": "markdown",
   "id": "e3fe7e0e",
   "metadata": {},
   "source": [
    "Também pode-se fazer a conversão para booleanos, mas qualquer string vazia é False e qualquer outra string é True."
   ]
  },
  {
   "cell_type": "code",
   "execution_count": 3,
   "id": "d4356ee2",
   "metadata": {},
   "outputs": [
    {
     "name": "stdout",
     "output_type": "stream",
     "text": [
      "False\n",
      "True\n"
     ]
    }
   ],
   "source": [
    "print(bool(''))\n",
    "print(bool('Olá, Marilene'))"
   ]
  },
  {
   "cell_type": "markdown",
   "id": "88f043db",
   "metadata": {},
   "source": [
    "Para números, 0 é convertido para False e qualquer outro valor será convertido para True."
   ]
  },
  {
   "cell_type": "code",
   "execution_count": 5,
   "id": "adb047bd",
   "metadata": {},
   "outputs": [
    {
     "name": "stdout",
     "output_type": "stream",
     "text": [
      "False\n",
      "True\n",
      "True\n"
     ]
    }
   ],
   "source": [
    "print(bool(0))\n",
    "print(bool(0.75))\n",
    "print(bool(-2))"
   ]
  },
  {
   "cell_type": "code",
   "execution_count": null,
   "id": "1017c519",
   "metadata": {},
   "outputs": [],
   "source": []
  }
 ],
 "metadata": {
  "kernelspec": {
   "display_name": "Python 3 (ipykernel)",
   "language": "python",
   "name": "python3"
  },
  "language_info": {
   "codemirror_mode": {
    "name": "ipython",
    "version": 3
   },
   "file_extension": ".py",
   "mimetype": "text/x-python",
   "name": "python",
   "nbconvert_exporter": "python",
   "pygments_lexer": "ipython3",
   "version": "3.10.5"
  }
 },
 "nbformat": 4,
 "nbformat_minor": 5
}
