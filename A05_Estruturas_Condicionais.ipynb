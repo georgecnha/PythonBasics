{
 "cells": [
  {
   "cell_type": "code",
   "execution_count": 2,
   "id": "c476943c",
   "metadata": {},
   "outputs": [
    {
     "name": "stdout",
     "output_type": "stream",
     "text": [
      "Qual o valor da corrida?99\n",
      "Pegue um ônibus\n"
     ]
    }
   ],
   "source": [
    "valor_passagem=4.30\n",
    "valor_corrida=float(input('Qual o valor da corrida?'))\n",
    "\n",
    "if valor_corrida <= valor_passagem*5:\n",
    "    print('Pague a Corrida')\n",
    "if valor_corrida > valor_passagem:\n",
    "    print('Pegue um ônibus')"
   ]
  },
  {
   "cell_type": "code",
   "execution_count": 10,
   "id": "a9a8541b",
   "metadata": {},
   "outputs": [
    {
     "name": "stdout",
     "output_type": "stream",
     "text": [
      "Qual o valor da corrida? 17\n",
      "Pague a Corrida.\n"
     ]
    }
   ],
   "source": [
    "valor_passagem=4.30\n",
    "valor_corrida=float(input('Qual o valor da corrida? '))\n",
    "\n",
    "if valor_corrida <= valor_passagem*5:\n",
    "    print('Pague a Corrida.')\n",
    "elif valor_corrida <= valor_passagem*6:\n",
    "    print('Aguarde um pouquinho.')\n",
    "else:\n",
    "    print('Pegue um ônibus.') \n"
   ]
  },
  {
   "cell_type": "code",
   "execution_count": null,
   "id": "2a7c79d8",
   "metadata": {},
   "outputs": [],
   "source": []
  }
 ],
 "metadata": {
  "kernelspec": {
   "display_name": "Python 3 (ipykernel)",
   "language": "python",
   "name": "python3"
  },
  "language_info": {
   "codemirror_mode": {
    "name": "ipython",
    "version": 3
   },
   "file_extension": ".py",
   "mimetype": "text/x-python",
   "name": "python",
   "nbconvert_exporter": "python",
   "pygments_lexer": "ipython3",
   "version": "3.10.5"
  }
 },
 "nbformat": 4,
 "nbformat_minor": 5
}
