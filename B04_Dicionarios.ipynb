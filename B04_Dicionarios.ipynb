{
 "cells": [
  {
   "cell_type": "markdown",
   "id": "6907b0d0",
   "metadata": {},
   "source": [
    "# Dicionários\n",
    "\n",
    "Coleção associativa não-ordenada."
   ]
  },
  {
   "cell_type": "code",
   "execution_count": 1,
   "id": "859ee349",
   "metadata": {},
   "outputs": [],
   "source": [
    "dados_cidade = {\n",
    "    'nome': 'São Paulo',\n",
    "    'estado': 'São Paulo',\n",
    "    'area_km2': 1521,\n",
    "    'populacao_milhoes': 12.18\n",
    "}"
   ]
  },
  {
   "cell_type": "code",
   "execution_count": 2,
   "id": "d003dff1",
   "metadata": {},
   "outputs": [
    {
     "data": {
      "text/plain": [
       "dict"
      ]
     },
     "execution_count": 2,
     "metadata": {},
     "output_type": "execute_result"
    }
   ],
   "source": [
    "type(dados_cidade)"
   ]
  },
  {
   "cell_type": "code",
   "execution_count": 3,
   "id": "fd559490",
   "metadata": {},
   "outputs": [
    {
     "name": "stdout",
     "output_type": "stream",
     "text": [
      "{'nome': 'São Paulo', 'estado': 'São Paulo', 'area_km2': 1521, 'populacao_milhoes': 12.18, 'pais': 'Brasil'}\n"
     ]
    }
   ],
   "source": [
    "#Adicionar um valor\n",
    "\n",
    "dados_cidade['pais']='Brasil'\n",
    "print(dados_cidade)"
   ]
  },
  {
   "cell_type": "code",
   "execution_count": 4,
   "id": "1867832e",
   "metadata": {},
   "outputs": [
    {
     "name": "stdout",
     "output_type": "stream",
     "text": [
      "{'nome': 'São Paulo', 'estado': 'São Paulo', 'area_km2': 1500, 'populacao_milhoes': 12.18, 'pais': 'Brasil'}\n"
     ]
    }
   ],
   "source": [
    "#Atualizar um valor\n",
    "\n",
    "dados_cidade['area_km2']=1500\n",
    "print(dados_cidade)"
   ]
  },
  {
   "cell_type": "markdown",
   "id": "7ba8df9d",
   "metadata": {},
   "source": [
    "## Método copy()"
   ]
  },
  {
   "cell_type": "code",
   "execution_count": 5,
   "id": "296634bc",
   "metadata": {},
   "outputs": [],
   "source": [
    "dados_cidade2= dados_cidade.copy() #Impede que as mudanças ocorram no dicionário original\n"
   ]
  },
  {
   "cell_type": "markdown",
   "id": "99baca5d",
   "metadata": {},
   "source": [
    "## Método update()"
   ]
  },
  {
   "cell_type": "code",
   "execution_count": 6,
   "id": "156ee6aa",
   "metadata": {},
   "outputs": [
    {
     "name": "stdout",
     "output_type": "stream",
     "text": [
      "{'nome': 'São Paulo', 'estado': 'São Paulo', 'area_km2': 1500, 'populacao_milhoes': 15, 'pais': 'Brasil', 'fundacao': '25/01/1554'}\n"
     ]
    }
   ],
   "source": [
    "novos_dados = {\n",
    "    'populacao_milhoes':15,\n",
    "    'fundacao':'25/01/1554'\n",
    "}\n",
    "\n",
    "\n",
    "#Atualizar e adicionar dados de um dicionário com os de outro dicionário.\n",
    "dados_cidade.update(novos_dados)\n",
    "print(dados_cidade)"
   ]
  },
  {
   "cell_type": "markdown",
   "id": "9671984b",
   "metadata": {},
   "source": [
    "## Método get()\n",
    "Retorna os dados de uma chave e retorna `None` quando ela não existe."
   ]
  },
  {
   "cell_type": "code",
   "execution_count": 7,
   "id": "504f11fe",
   "metadata": {},
   "outputs": [
    {
     "name": "stdout",
     "output_type": "stream",
     "text": [
      "None\n"
     ]
    }
   ],
   "source": [
    "print(dados_cidade.get('prefeito'))"
   ]
  },
  {
   "cell_type": "code",
   "execution_count": 8,
   "id": "5da021d2",
   "metadata": {},
   "outputs": [
    {
     "name": "stdout",
     "output_type": "stream",
     "text": [
      "dict_keys(['nome', 'estado', 'area_km2', 'populacao_milhoes', 'pais', 'fundacao'])\n",
      "\n",
      "dict_values(['São Paulo', 'São Paulo', 1500, 15, 'Brasil', '25/01/1554'])\n",
      "\n",
      "dict_items([('nome', 'São Paulo'), ('estado', 'São Paulo'), ('area_km2', 1500), ('populacao_milhoes', 15), ('pais', 'Brasil'), ('fundacao', '25/01/1554')])\n"
     ]
    }
   ],
   "source": [
    "print(dados_cidade.keys()) #retorna uma lista de chaves do dicionário\n",
    "print(___)\n",
    "print(dados_cidade.values()) #retorna uma lista de valores de um dicionário\n",
    "print(___)\n",
    "print(dados_cidade.items()) #retorna uma lista de tuplas (chave, valor) de um dicionário"
   ]
  },
  {
   "cell_type": "code",
   "execution_count": null,
   "id": "819ea584",
   "metadata": {},
   "outputs": [],
   "source": []
  }
 ],
 "metadata": {
  "kernelspec": {
   "display_name": "Python 3 (ipykernel)",
   "language": "python",
   "name": "python3"
  },
  "language_info": {
   "codemirror_mode": {
    "name": "ipython",
    "version": 3
   },
   "file_extension": ".py",
   "mimetype": "text/x-python",
   "name": "python",
   "nbconvert_exporter": "python",
   "pygments_lexer": "ipython3",
   "version": "3.10.5"
  }
 },
 "nbformat": 4,
 "nbformat_minor": 5
}
